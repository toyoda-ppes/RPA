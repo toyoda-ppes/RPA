{
 "cells": [
  {
   "cell_type": "code",
   "execution_count": 9,
   "id": "95755d47-6611-491a-af9f-163f916b9733",
   "metadata": {},
   "outputs": [],
   "source": [
    "import os\n",
    "import pathlib\n",
    "from pathlib import Path\n",
    "import glob\n",
    "import re\n",
    "import cx_Oracle as oracle\n",
    "import pandas as pd\n",
    "import numpy as np\n",
    "# from sklearn.linear_model import LinearRegression\n",
    "# from sklearn.metrics import mean_squared_error, r2_score\n",
    "# from sklearn.preprocessing import PolynomialFeatures\n",
    "import openpyxl\n",
    "import shutil"
   ]
  },
  {
   "cell_type": "code",
   "execution_count": 45,
   "id": "3668f167-ef7b-48ba-871b-7bc6f543517d",
   "metadata": {},
   "outputs": [],
   "source": [
    "def make_file_path_list():\n",
    "    \n",
    "    # カレントディレクトリを取得\n",
    "    cwd = os.getcwd()\n",
    "\n",
    "    # カレントディレクトリにある対象のデータフォルダ名を取得(複数ある場合に対応)\n",
    "    target_folders = []\n",
    "    \n",
    "    for f in glob.glob(cwd + \"\\\\*\"):\n",
    "        folder_name = os.path.split(f)[1]\n",
    "        if re.findall(\"^\\d{8}\", folder_name):\n",
    "            target_folders.append(folder_name)\n",
    "    \n",
    "    # 対象ディレクトリのパスを作成(list)\n",
    "    path = cwd + \"\\\\\" + target_folder + \"\\\\*\\\\**\"\n",
    "    \n",
    "   "
   ]
  },
  {
   "cell_type": "code",
   "execution_count": 46,
   "id": "816ff677-761e-4e2b-8f89-f0251cc2fb69",
   "metadata": {},
   "outputs": [
    {
     "ename": "NameError",
     "evalue": "name 'target_folder' is not defined",
     "output_type": "error",
     "traceback": [
      "\u001b[1;31m---------------------------------------------------------------------------\u001b[0m",
      "\u001b[1;31mNameError\u001b[0m                                 Traceback (most recent call last)",
      "Input \u001b[1;32mIn [46]\u001b[0m, in \u001b[0;36m<module>\u001b[1;34m\u001b[0m\n\u001b[1;32m----> 1\u001b[0m \u001b[43mmake_file_path_list\u001b[49m\u001b[43m(\u001b[49m\u001b[43m)\u001b[49m\n",
      "Input \u001b[1;32mIn [45]\u001b[0m, in \u001b[0;36mmake_file_path_list\u001b[1;34m()\u001b[0m\n\u001b[0;32m     12\u001b[0m         target_folders\u001b[38;5;241m.\u001b[39mappend(folder_name)\n\u001b[0;32m     14\u001b[0m \u001b[38;5;66;03m# 対象ディレクトリのパスを作成(list)\u001b[39;00m\n\u001b[1;32m---> 15\u001b[0m path \u001b[38;5;241m=\u001b[39m cwd \u001b[38;5;241m+\u001b[39m \u001b[38;5;124m\"\u001b[39m\u001b[38;5;130;01m\\\\\u001b[39;00m\u001b[38;5;124m\"\u001b[39m \u001b[38;5;241m+\u001b[39m \u001b[43mtarget_folder\u001b[49m \u001b[38;5;241m+\u001b[39m \u001b[38;5;124m\"\u001b[39m\u001b[38;5;130;01m\\\\\u001b[39;00m\u001b[38;5;124m*\u001b[39m\u001b[38;5;130;01m\\\\\u001b[39;00m\u001b[38;5;124m**\u001b[39m\u001b[38;5;124m\"\u001b[39m\n",
      "\u001b[1;31mNameError\u001b[0m: name 'target_folder' is not defined"
     ]
    }
   ],
   "source": [
    "make_file_path_list()"
   ]
  },
  {
   "cell_type": "code",
   "execution_count": 48,
   "id": "8fa7d8a2-053a-425d-a29e-0778fa34eccb",
   "metadata": {},
   "outputs": [
    {
     "ename": "NameError",
     "evalue": "name 'path' is not defined",
     "output_type": "error",
     "traceback": [
      "\u001b[1;31m---------------------------------------------------------------------------\u001b[0m",
      "\u001b[1;31mNameError\u001b[0m                                 Traceback (most recent call last)",
      "Input \u001b[1;32mIn [48]\u001b[0m, in \u001b[0;36m<module>\u001b[1;34m\u001b[0m\n\u001b[1;32m----> 1\u001b[0m \u001b[43mpath\u001b[49m\n",
      "\u001b[1;31mNameError\u001b[0m: name 'path' is not defined"
     ]
    }
   ],
   "source": [
    "path"
   ]
  },
  {
   "cell_type": "code",
   "execution_count": 18,
   "id": "dd506fad-7320-4f2f-9832-e7ed7496a355",
   "metadata": {},
   "outputs": [
    {
     "ename": "NameError",
     "evalue": "name 'target_folder' is not defined",
     "output_type": "error",
     "traceback": [
      "\u001b[1;31m---------------------------------------------------------------------------\u001b[0m",
      "\u001b[1;31mNameError\u001b[0m                                 Traceback (most recent call last)",
      "Input \u001b[1;32mIn [18]\u001b[0m, in \u001b[0;36m<module>\u001b[1;34m\u001b[0m\n\u001b[1;32m----> 1\u001b[0m \u001b[43mmake_file_path_list\u001b[49m\u001b[43m(\u001b[49m\u001b[43m)\u001b[49m\n",
      "Input \u001b[1;32mIn [17]\u001b[0m, in \u001b[0;36mmake_file_path_list\u001b[1;34m()\u001b[0m\n\u001b[0;32m     26\u001b[0m     data_folders\u001b[38;5;241m.\u001b[39mappend(glob\u001b[38;5;241m.\u001b[39mglob(path))\n\u001b[0;32m     28\u001b[0m \u001b[38;5;66;03m# 対象ディレクトリの中に必要なファイルを格納するフォルダを作成\u001b[39;00m\n\u001b[1;32m---> 30\u001b[0m new_dir_path \u001b[38;5;241m=\u001b[39m cwd \u001b[38;5;241m+\u001b[39m  \u001b[38;5;124m\"\u001b[39m\u001b[38;5;130;01m\\\\\u001b[39;00m\u001b[38;5;124m\"\u001b[39m \u001b[38;5;241m+\u001b[39m \u001b[43mtarget_folder\u001b[49m \u001b[38;5;241m+\u001b[39m\u001b[38;5;124m'\u001b[39m\u001b[38;5;124m★アップ用\u001b[39m\u001b[38;5;124m'\u001b[39m\n\u001b[0;32m     31\u001b[0m os\u001b[38;5;241m.\u001b[39mmkdir(new_dir_path)\n\u001b[0;32m     33\u001b[0m new_dir_path \u001b[38;5;241m=\u001b[39m cwd \u001b[38;5;241m+\u001b[39m  \u001b[38;5;124m\"\u001b[39m\u001b[38;5;130;01m\\\\\u001b[39;00m\u001b[38;5;124m\"\u001b[39m \u001b[38;5;241m+\u001b[39m target_folder \u001b[38;5;241m+\u001b[39m\u001b[38;5;124m'\u001b[39m\u001b[38;5;124m★アップ用\u001b[39m\u001b[38;5;124m'\u001b[39m\u001b[38;5;241m+\u001b[39m\u001b[38;5;124m'\u001b[39m\u001b[38;5;130;01m\\\\\u001b[39;00m\u001b[38;5;124mGrp\u001b[39m\u001b[38;5;124m'\u001b[39m\n",
      "\u001b[1;31mNameError\u001b[0m: name 'target_folder' is not defined"
     ]
    }
   ],
   "source": []
  },
  {
   "cell_type": "code",
   "execution_count": 19,
   "id": "8e0f4337-49ff-41f7-a0cf-258ed5a54535",
   "metadata": {},
   "outputs": [],
   "source": [
    " # データフォルダ名のリストも作成\n",
    "    folder_name_list = [target_folder for target_folder in target_folders]\n",
    "\n",
    "\n",
    "    # 対象ディレクトリから全てのファイル名を取得(list)\n",
    "    data_folders = []\n",
    "\n",
    "    for path in path_list:\n",
    "        data_folders.append(glob.glob(path))\n",
    "    \n",
    "    # 対象ディレクトリの中に必要なファイルを格納するフォルダを作成\n",
    "    \n",
    "    new_dir_path = cwd +  \"\\\\\" + target_folder +'★アップ用'\n",
    "    os.mkdir(new_dir_path)\n",
    "    \n",
    "    new_dir_path = cwd +  \"\\\\\" + target_folder +'★アップ用'+'\\\\Grp'\n",
    "    os.mkdir(new_dir_path)\n",
    "    \n",
    "     # 対象ディレクトリから全てのファイル名を取得(list)\n",
    "    files = glob.glob(path)\n",
    "\n",
    "    file_list=[]\n",
    "\n",
    "    # ファイルリストから必要なファイルのみをフィルタリング\n",
    "    for file in files:\n",
    "        file_list += [file]\n",
    "\n",
    "\n",
    "\n",
    "    # ファイルリストから必要なファイルのみをフィルタリング\n",
    "    for file in data_folder:\n",
    "        file_list += [file]\n",
    "            \n",
    "\n",
    "        #各チャンネル毎で必要なcsvファイルのパスを取得し、リスト化\n",
    "        CH_NO = ['01','02','03','04','05','06','07','08','09','10','11','12','13','14']\n",
    "        csv_list = []\n",
    "        for ch in CH_NO:\n",
    "            # JH放電容量・JT放電容量・JT-10℃放電抵抗に使用\n",
    "            a = ch + '_CycleEnd'\n",
    "            # JH25℃SOC50% 放電抵抗に使用\n",
    "            b = ch + '_Count000005Ptn005'\n",
    "            # JH-35℃SOC50% 放電抵抗に使用\n",
    "            c = ch + '_Count000006Ptn006'\n",
    "            # JH25℃SOC10% 放電抵抗に使用\n",
    "            d = ch + '_Count000009Ptn009'\n",
    "            # JM0℃SOC70% 充電抵抗に使用\n",
    "            e = ch + '_Count000012Ptn012'\n",
    "            # JT25℃SOC60% 放電抵抗に使用\n",
    "            f = ch + '_Count000017Ptn017'\n",
    "            # JT-30℃SOC15% 放電抵抗に使用\n",
    "            g = ch + '_Count000020Ptn020'\n",
    "            # JT-10℃SOC15% 放電抵抗に使用\n",
    "            h = ch + '_Count000022Ptn022'\n",
    "            \n",
    "            #各変数毎a～eの条件に一致したファイルパスを取得し、「処理ファイル」フォルダへ移動（コピー）\n",
    "            file_a = [file for file in file_list if ('Grp' in file) and ( a in file) ]\n",
    "            for file in file_a:\n",
    "                shutil.copy(file,new_dir_path + '/')\n",
    "            \n",
    "            file_b = [file for file in file_list if ('Grp' in file) and ( b in file) ]\n",
    "            for file in file_b:\n",
    "                shutil.copy(file,new_dir_path + '/')\n",
    "            \n",
    "            file_c = [file for file in file_list if ('Grp' in file) and ( c in file) ]\n",
    "            for file in file_c:\n",
    "                shutil.copy(file,new_dir_path + '/')\n",
    "                \n",
    "            file_d = [file for file in file_list if ('Grp' in file) and ( d in file) ]\n",
    "            for file in file_d:\n",
    "                shutil.copy(file,new_dir_path + '/')\n",
    "                \n",
    "            file_e = [file for file in file_list if ('Grp' in file) and ( e in file) ]\n",
    "            for file in file_e:\n",
    "                shutil.copy(file,new_dir_path + '/')\n",
    "\n"
   ]
  },
  {
   "cell_type": "code",
   "execution_count": 22,
   "id": "dea63f00-1e39-448c-81c8-bb7065727edb",
   "metadata": {},
   "outputs": [],
   "source": [
    "# カレントディレクトリを取得\n",
    "cwd = os.getcwd()\n",
    "\n",
    "# カレントディレクトリにある対象のデータフォルダ名を取得(複数ある場合に対応)\n",
    "target_folders = []\n",
    "for f in glob.glob(cwd + \"\\\\*\"):\n",
    "    folder_name = os.path.split(f)[1]\n",
    "    if re.findall(\"^\\d{8}\", folder_name):\n",
    "        target_folders.append(folder_name)"
   ]
  },
  {
   "cell_type": "code",
   "execution_count": 23,
   "id": "6aab0641-a6bc-4dfe-94b5-04980000e2a2",
   "metadata": {},
   "outputs": [
    {
     "data": {
      "text/plain": [
       "['20220329_JTJM_KA314(2)_#5_ch7-9_KA319(2)_ch10-12']"
      ]
     },
     "execution_count": 23,
     "metadata": {},
     "output_type": "execute_result"
    }
   ],
   "source": [
    "target_folders"
   ]
  },
  {
   "cell_type": "code",
   "execution_count": null,
   "id": "2345a205-54f6-4893-89c5-3f8aa83abad1",
   "metadata": {},
   "outputs": [],
   "source": [
    "# 各データフォルダの最初のチャネル番号を取得してcsv_listにセットで格納\n",
    "        for idx, ch in enumerate(csv_list, start=1):\n",
    "            if ch:\n",
    "                csv_list.insert(0, idx)\n",
    "                break        \n",
    "        \n",
    "        csv_lists.append(csv_list)\n",
    "    \n",
    "    csv_lists_with_folder_name = []\n",
    "    for folder_name, csv_list in zip(folder_name_list, csv_lists):\n",
    "        csv_lists_with_folder_name.append((folder_name, csv_list))\n",
    "        \n",
    "    return csv_lists_with_folder_name"
   ]
  },
  {
   "cell_type": "markdown",
   "id": "3dd464f3-4c11-4aa4-892a-40917dbb4870",
   "metadata": {
    "tags": []
   },
   "source": [
    "### 処理に必要なファイルだけ取得し、移動"
   ]
  },
  {
   "cell_type": "markdown",
   "id": "5a3a426f-e22f-4b3d-9aaf-0c177d5cae85",
   "metadata": {},
   "source": [
    "##### フォルダ内から使用するファイル名のリストを作成し、ファイル移動をする関数"
   ]
  },
  {
   "cell_type": "code",
   "execution_count": 53,
   "id": "d2367515-5d00-4456-8da2-bd95f8d4310e",
   "metadata": {},
   "outputs": [],
   "source": [
    "def make_file_path_list():\n",
    "    \n",
    "    # カレントディレクトリを取得\n",
    "    cwd = os.getcwd()\n",
    "    \n",
    "    # データフォルダ名を取得\n",
    "    for f in glob.glob(cwd + \"\\\\*\"):\n",
    "        folder_name = os.path.split(f)[1]\n",
    "        if re.findall(\"^\\d{8}\", folder_name):\n",
    "            target_folder = folder_name\n",
    "            \n",
    "    # 対象ディレクトリのパスを作成\n",
    "    path = cwd + \"\\\\\" + target_folder + \"\\\\*\\\\**\"\n",
    "    \n",
    "    # 対象ディレクトリの中に必要なファイルを格納するフォルダを作成\n",
    "    new_dir_path = cwd +  \"\\\\\" + target_folder +'★アップ用'\n",
    "    os.mkdir(new_dir_path)\n",
    "    \n",
    "    new_dir_path = cwd +  \"\\\\\" + target_folder +'★アップ用'+'\\\\Grp'\n",
    "    os.mkdir(new_dir_path)\n",
    "    \n",
    "    # 対象ディレクトリから全てのファイル名を取得(list)\n",
    "    files = glob.glob(path)\n",
    "\n",
    "    file_list=[]\n",
    "\n",
    "    # ファイルリストから必要なファイルのみをフィルタリング\n",
    "    for file in files:\n",
    "        file_list += [file]\n",
    "\n",
    "    #各チャンネル毎で必要なcsvファイルのパスを取得し、リスト化し、対象ファイルを「処理ファイル」フォルダへ移動\n",
    "    CH_NO = ['01','02','03','04','05','06','07','08','09','10','11','12','13','14']\n",
    "    csv_list = []\n",
    "    for ch in CH_NO:\n",
    "        # JH放電容量・JT放電容量・JT-10℃放電抵抗に使用\n",
    "        a = ch + '_CycleEnd'\n",
    "        # JH25℃SOC50% 放電抵抗に使用\n",
    "        b = ch + '_Count000005Ptn005'\n",
    "        # JH-35℃SOC50% 放電抵抗に使用\n",
    "        c = ch + '_Count000006Ptn006'\n",
    "        # JH25℃SOC10% 放電抵抗に使用\n",
    "        d = ch + '_Count000009Ptn009'\n",
    "        # JM0℃SOC70% 充電抵抗に使用\n",
    "        e = ch + '_Count000012Ptn012'\n",
    "        # JT25℃SOC60% 放電抵抗に使用\n",
    "        f = ch + '_Count000017Ptn017'\n",
    "        # JT-30℃SOC15% 放電抵抗に使用\n",
    "        g = ch + '_Count000020Ptn020'\n",
    "        # JT-10℃SOC15% 放電抵抗に使用\n",
    "        h = ch + '_Count000022Ptn022'\n",
    "        \n",
    "        #各変数毎a～eの条件に一致したファイルパスを取得し、「処理ファイル」フォルダへ移動（コピー）\n",
    "        file_a = [file for file in file_list if ('Grp' in file) and ( a in file) ]\n",
    "        for file in file_a:\n",
    "            shutil.copy(file,new_dir_path + '/')\n",
    "        \n",
    "        file_b = [file for file in file_list if ('Grp' in file) and ( b in file) ]\n",
    "        for file in file_b:\n",
    "            shutil.copy(file,new_dir_path + '/')\n",
    "        \n",
    "        file_c = [file for file in file_list if ('Grp' in file) and ( c in file) ]\n",
    "        for file in file_c:\n",
    "            shutil.copy(file,new_dir_path + '/')\n",
    "            \n",
    "        file_d = [file for file in file_list if ('Grp' in file) and ( d in file) ]\n",
    "        for file in file_d:\n",
    "            shutil.copy(file,new_dir_path + '/')\n",
    "            \n",
    "        file_e = [file for file in file_list if ('Grp' in file) and ( e in file) ]\n",
    "        for file in file_e:\n",
    "            shutil.copy(file,new_dir_path + '/')\n",
    "            \n",
    "        return csv_list\n",
    "   "
   ]
  },
  {
   "cell_type": "code",
   "execution_count": 54,
   "id": "75078d62-bd1d-4058-8aa4-707d87bf05ac",
   "metadata": {},
   "outputs": [
    {
     "data": {
      "text/plain": [
       "[]"
      ]
     },
     "execution_count": 54,
     "metadata": {},
     "output_type": "execute_result"
    }
   ],
   "source": [
    "make_file_path_list()"
   ]
  },
  {
   "cell_type": "code",
   "execution_count": null,
   "id": "a04a0170-7e85-4542-b5f4-f93167e491e7",
   "metadata": {},
   "outputs": [],
   "source": []
  }
 ],
 "metadata": {
  "kernelspec": {
   "display_name": "Python 3 (ipykernel)",
   "language": "python",
   "name": "python3"
  },
  "language_info": {
   "codemirror_mode": {
    "name": "ipython",
    "version": 3
   },
   "file_extension": ".py",
   "mimetype": "text/x-python",
   "name": "python",
   "nbconvert_exporter": "python",
   "pygments_lexer": "ipython3",
   "version": "3.8.12"
  },
  "toc-showmarkdowntxt": true
 },
 "nbformat": 4,
 "nbformat_minor": 5
}
