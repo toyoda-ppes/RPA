{
 "cells": [
  {
   "cell_type": "code",
   "execution_count": 1,
   "id": "bbf4ac7a-b154-48e6-b3dd-1c6f5f23e29f",
   "metadata": {},
   "outputs": [],
   "source": [
    "import os\n",
    "import pathlib\n",
    "from pathlib import Path\n",
    "import glob\n",
    "import re\n",
    "import cx_Oracle as oracle\n",
    "import pandas as pd\n",
    "import openpyxl\n",
    "import shutil"
   ]
  },
  {
   "cell_type": "code",
   "execution_count": 2,
   "id": "9e8621da-42dd-4e2f-aa6f-ec23a7ce7066",
   "metadata": {},
   "outputs": [],
   "source": [
    "#カレントディレクトリを取得\n",
    "cwd = os.getcwd()\n",
    "    \n",
    "#カレントディレクトリ内の対象フォルダ名を取得(複数ファイル一括)\n",
    "target_folders = []#アップ用\n",
    "target_folders1 = []#解除用\n",
    "for f in glob.glob(cwd  + \"\\*\"):\n",
    "    folder_name = os.path.split(f)[1]\n",
    "    \n",
    "    if re.findall(\"★登録済_40A_品連NG\", folder_name):\n",
    "        target_folders1.append(folder_name)\n",
    "    elif re.findall(\"40A_品連NG\", folder_name):\n",
    "        target_folders.append(folder_name)\n",
    "\n",
    "            \n",
    "#対象ディレクトリのパスを作成\n",
    "path_list = [cwd + \"\\\\\" + target_folder for target_folder in target_folders]#アップ用\n",
    "path_list1 = [cwd + \"\\\\\" + target_folder for target_folder in target_folders1]#解除用\n",
    "    \n",
    "#データフォルダ名のリスト作成\n",
    "folder_name_list = [target_folder for target_folder in target_folders]#アップ用\n",
    "folder_name_list1 = [target_folder for target_folder in target_folders1]#解除用"
   ]
  },
  {
   "cell_type": "code",
   "execution_count": null,
   "id": "15a093d6-ecda-4955-b0f1-ddaaa81234d5",
   "metadata": {},
   "outputs": [],
   "source": []
  },
  {
   "cell_type": "markdown",
   "id": "5cd9d434-fe7a-41cb-b51d-06b1d3ee0a2e",
   "metadata": {},
   "source": [
    "### MESサーバーへの接続"
   ]
  },
  {
   "cell_type": "code",
   "execution_count": 4,
   "id": "96437c63-a4ad-4cf6-bec0-b1c1c2c1b6ba",
   "metadata": {
    "tags": []
   },
   "outputs": [],
   "source": [
    "#CX oracleでMESサーバーへ接続（接続情報以外は定型）\n",
    "class conn_MES_LWR:\n",
    "    def __init__(self, host= \"10.60.28.37\", port=\"1521\", service=\"psh3dbv\",\n",
    "                       scheme=\"tabuser\",username=\"tabuser\",password=\"tab123\"):        \n",
    "        self.host = host\n",
    "        self.port = port\n",
    "        self.service  = service\n",
    "\n",
    "        self.scheme   = scheme\n",
    "        self.username = username\n",
    "        self.password = password\n",
    "    \n",
    "    def __enter__(self):\n",
    "        \n",
    "        # tns:Oracleが命名したDB接続用インターフェース技術の名前\n",
    "        \n",
    "        # インターフェイスオブジェクトの作成\n",
    "        self.tns  = oracle.makedsn(self.host, self.port, service_name=self.service) if self.host else None\n",
    "        # 接続を確立\n",
    "        self.conn = oracle.connect(self.username, self.password, self.tns) if self.tns else None\n",
    "        # カーソルの取得\n",
    "        self.curs = self.conn.cursor() if self.conn else None\n",
    "        return self\n",
    "\n",
    "    def __exit__(self, exception_type, exception_value, traceback):\n",
    "        if self.curs is not None: self.curs.close()\n",
    "        if self.conn is not None: self.conn.close()"
   ]
  },
  {
   "cell_type": "markdown",
   "id": "191f1670-967c-4846-aaa9-825436b930df",
   "metadata": {
    "tags": []
   },
   "source": [
    "### DBにアップする用のSQL"
   ]
  },
  {
   "cell_type": "code",
   "execution_count": 5,
   "id": "b7e8d2c6-5c5e-4c91-ba5f-cf63d01becdd",
   "metadata": {},
   "outputs": [],
   "source": [
    "#保留セル用SQL\n",
    "insert_sample = 'INSERT INTO \"TABUSER\".\"HoldingCellList(QCCont)40A\" (\"CellId\", \"InstructReason\", \"InstructNo\", \"InstructCont\", \"RecissionReason\", \"RecissionNo\", \"RecissionCont\") VALUES (:1,:2,:3,:4,:5,:6,:7)'\n",
    "\n",
    "#保留解除用SQL\n",
    "update_sample = 'UPDATE \"TABUSER\".\"HoldingCellList(QCCont)40A\" set \"RecissionReason\" = :5  , \"RecissionNo\" = :6 , \"RecissionCont\" = :7 Where \"CellId\" = :1 AND \"InstructNo\" = :2'"
   ]
  },
  {
   "cell_type": "markdown",
   "id": "6eebb906-23a6-4007-83b7-4e3d478dabb5",
   "metadata": {
    "tags": []
   },
   "source": [
    "### DBにアップする関数の定義"
   ]
  },
  {
   "cell_type": "code",
   "execution_count": 6,
   "id": "cbffdff6-0c81-4283-811a-915efcc020a3",
   "metadata": {},
   "outputs": [],
   "source": [
    "#保留セルをDBにアップロードする関数\n",
    "def upload_data(insert_sql=None, df=None):\n",
    "       \n",
    "    with conn_MES_LWR() as mesdb:\n",
    "        # executemany()で複数行のデータを一括でインサート\n",
    "        mesdb.curs.executemany(insert_sql,df)\n",
    "        mesdb.conn.commit()"
   ]
  },
  {
   "cell_type": "code",
   "execution_count": 7,
   "id": "7c709760-8f61-4d58-97f1-60d0605be59d",
   "metadata": {},
   "outputs": [],
   "source": [
    "#保留解除セルをDBにアップデートする関数\n",
    "def update_data(update_sql=None, df=None):\n",
    "    \n",
    "    with conn_MES_LWR() as mesdb:\n",
    "        # executemany()はupdate関数が使用不可の為、削除\n",
    "        mesdb.curs.execute(update_sql,df)\n",
    "        mesdb.conn.commit()"
   ]
  },
  {
   "cell_type": "markdown",
   "id": "5e295e6f-4892-430c-82af-cfaca3941ff9",
   "metadata": {
    "tags": []
   },
   "source": [
    "### 保留セルをDBにアップする"
   ]
  },
  {
   "cell_type": "code",
   "execution_count": 8,
   "id": "e141371f-4ca4-4b79-8f6b-e00b61904b4c",
   "metadata": {
    "tags": []
   },
   "outputs": [],
   "source": [
    "#エクセルファイルを読み込みdf化\n",
    "sample_dfs = pd.DataFrame(columns = [])\n",
    "for i in folder_name_list:\n",
    "    tmp = pd.read_excel(i,sheet_name=\"Sheet1\",header=0)\n",
    "    sample_dfs = pd.concat([sample_dfs,tmp])"
   ]
  },
  {
   "cell_type": "code",
   "execution_count": 10,
   "id": "e64e80a5-72f6-43a9-a934-a03b0e9eee0d",
   "metadata": {},
   "outputs": [],
   "source": [
    "# NaNがあると何かと不都合なので、NaNを空文字に変換\n",
    "sample_dfs = sample_dfs.fillna(\"\")"
   ]
  },
  {
   "cell_type": "code",
   "execution_count": 11,
   "id": "72b1da70-a4ba-4561-beed-21590f7135fd",
   "metadata": {},
   "outputs": [],
   "source": [
    " # DBに格納できるようにデータフレームを二次元配列に変換\n",
    "sample_dfs = sample_dfs.values"
   ]
  },
  {
   "cell_type": "code",
   "execution_count": 12,
   "id": "1cb539ad-365f-4e0b-9728-4d54b2799250",
   "metadata": {
    "tags": []
   },
   "outputs": [],
   "source": [
    "#DBへアップロード\n",
    "try :\n",
    "    upload_data(insert_sample,list(sample_dfs))\n",
    "\n",
    "except Exception:\n",
    "    print('新規データはありません')"
   ]
  },
  {
   "cell_type": "markdown",
   "id": "a8b8e168-12c3-48a2-ab6d-1ad0705c2df8",
   "metadata": {},
   "source": [
    "### 保留セルの解除内容をDBにアップする"
   ]
  },
  {
   "cell_type": "code",
   "execution_count": 13,
   "id": "06198cf9-72d0-441e-aeca-50eb7c4d7c0c",
   "metadata": {
    "tags": []
   },
   "outputs": [],
   "source": [
    "#エクセルファイルを読み込みdf化\n",
    "sample_dfs1 = pd.DataFrame(columns = [])\n",
    "for i in folder_name_list1:\n",
    "    tmp = pd.read_excel(i,sheet_name=\"Sheet1\",header=0)\n",
    "    sample_dfs1 = pd.concat([sample_dfs1,tmp])"
   ]
  },
  {
   "cell_type": "code",
   "execution_count": 14,
   "id": "140ab7c3-e74b-4bf3-891c-3df4ed707df5",
   "metadata": {},
   "outputs": [
    {
     "name": "stderr",
     "output_type": "stream",
     "text": [
      "C:\\Users\\E283674\\AppData\\Local\\Temp\\ipykernel_1060\\847251986.py:4: SettingWithCopyWarning: \n",
      "A value is trying to be set on a copy of a slice from a DataFrame\n",
      "\n",
      "See the caveats in the documentation: https://pandas.pydata.org/pandas-docs/stable/user_guide/indexing.html#returning-a-view-versus-a-copy\n",
      "  sample_dfs2.dropna(inplace=True)\n"
     ]
    }
   ],
   "source": [
    "#保留解除セルのデータを加工しDBへアップロード\n",
    "try :\n",
    "    sample_dfs2 = sample_dfs1[['解除_理由','解除_品連番号','解除_指示内容','セルID','品連番号']]\n",
    "    sample_dfs2.dropna(inplace=True)\n",
    "    sample_dfs2=sample_dfs2.values\n",
    "    \n",
    "    #DBへアップロード\n",
    "    for sample_df in sample_dfs2:\n",
    "        update_data(update_sample,sample_df)\n",
    "    \n",
    "\n",
    "except Exception:\n",
    "    print('保留解除データはありません')"
   ]
  },
  {
   "cell_type": "code",
   "execution_count": null,
   "id": "bb6f5490-8020-45ba-a037-1ae3901fbce2",
   "metadata": {},
   "outputs": [],
   "source": []
  },
  {
   "cell_type": "markdown",
   "id": "199a0293-e91d-4f7d-a5f1-1491c9061383",
   "metadata": {},
   "source": [
    "### 読み込んだExcelファイルを移動する"
   ]
  },
  {
   "cell_type": "code",
   "execution_count": 15,
   "id": "19ef7320-1367-4efd-add9-1c8e41a30f2c",
   "metadata": {},
   "outputs": [],
   "source": [
    "#登録を実施したファイル\n",
    "#登録したファイルの名前を変更する\n",
    "\n",
    "name_list=[]\n",
    "path=[]\n",
    "for i in folder_name_list:\n",
    "    os.rename(i,'★登録済_'+i)\n",
    "    name_list.append('★登録済_'+i)\n",
    "    path.append(cwd + \"\\\\\" + '★登録済_'+i)"
   ]
  },
  {
   "cell_type": "code",
   "execution_count": 16,
   "id": "ec5e4128-f7cb-4d95-be2c-a28c94c704a5",
   "metadata": {},
   "outputs": [],
   "source": [
    "#移動先ファイルの指定\n",
    "new_file_path=cwd+\"\\\\\"+'登録済み'\n",
    "\n",
    "#使用したファイルを登録済みファイルへ移動 \n",
    "for file in path:\n",
    "    shutil.move(file,new_file_path)"
   ]
  },
  {
   "cell_type": "code",
   "execution_count": 17,
   "id": "abb6be48-8f26-4a60-8ef2-01b02bd11a0f",
   "metadata": {},
   "outputs": [],
   "source": [
    "#保留解除実施ファイル\n",
    "#ファイル名を★登録済から★解除済へ変更\n",
    "name=[]\n",
    "name_list1=[]\n",
    "path1=[]\n",
    "\n",
    "for l in folder_name_list1:\n",
    "    name.append(l.lstrip('★登録済_'))\n",
    "\n",
    "for i,r in zip(folder_name_list1 , name):\n",
    "    os.rename(i,'★解除済_'+r)\n",
    "    name_list1.append('★解除済_'+r)\n",
    "    path1.append(cwd + \"\\\\\" + '★解除済_'+r)"
   ]
  },
  {
   "cell_type": "code",
   "execution_count": 18,
   "id": "ecf3c204-819b-4cdd-9b6f-18fe0b40da6e",
   "metadata": {},
   "outputs": [],
   "source": [
    "#移動先ファイルの指定\n",
    "new_file_path1=cwd+\"\\\\\"+'保留解除済み'\n",
    "\n",
    "#使用したファイルを解除済みファイルへ移動 \n",
    "for file1 in path1:\n",
    "    shutil.move(file1,new_file_path1)"
   ]
  },
  {
   "cell_type": "code",
   "execution_count": null,
   "id": "2700d34b-e803-4a0e-8d76-bcb84421067a",
   "metadata": {},
   "outputs": [],
   "source": []
  },
  {
   "cell_type": "code",
   "execution_count": null,
   "id": "b55e402c-adca-45d6-9846-b4d23e2c92af",
   "metadata": {},
   "outputs": [],
   "source": []
  },
  {
   "cell_type": "code",
   "execution_count": null,
   "id": "026b0c4a-3dea-49fd-b9bd-19ee36522fa0",
   "metadata": {},
   "outputs": [],
   "source": []
  },
  {
   "cell_type": "code",
   "execution_count": 38,
   "id": "3a8081b2-8515-4a03-b52d-26119a542434",
   "metadata": {},
   "outputs": [
    {
     "name": "stdin",
     "output_type": "stream",
     "text": [
      "処理を完了するには、任意のキーを押してください。 \n"
     ]
    },
    {
     "data": {
      "text/plain": [
       "''"
      ]
     },
     "execution_count": 38,
     "metadata": {},
     "output_type": "execute_result"
    }
   ],
   "source": [
    "# コンソールがすぐに消えてしまわないようにするための処理\n",
    "input(\"処理を完了するには、任意のキーを押してください。\")"
   ]
  },
  {
   "cell_type": "code",
   "execution_count": null,
   "id": "0816fefa-3604-4843-b62e-0a0be24e83a3",
   "metadata": {},
   "outputs": [],
   "source": []
  }
 ],
 "metadata": {
  "kernelspec": {
   "display_name": "Python 3 (ipykernel)",
   "language": "python",
   "name": "python3"
  },
  "language_info": {
   "codemirror_mode": {
    "name": "ipython",
    "version": 3
   },
   "file_extension": ".py",
   "mimetype": "text/x-python",
   "name": "python",
   "nbconvert_exporter": "python",
   "pygments_lexer": "ipython3",
   "version": "3.8.12"
  }
 },
 "nbformat": 4,
 "nbformat_minor": 5
}
